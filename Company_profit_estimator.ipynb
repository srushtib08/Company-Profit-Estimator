{
 "cells": [
  {
   "cell_type": "code",
   "execution_count": 1,
   "id": "fa926276",
   "metadata": {
    "executionInfo": {
     "elapsed": 2526,
     "status": "ok",
     "timestamp": 1659191393902,
     "user": {
      "displayName": "Gorakh Chavan",
      "userId": "03424950974426045553"
     },
     "user_tz": -330
    },
    "id": "fa926276"
   },
   "outputs": [],
   "source": [
    "import numpy as np\n",
    "import pandas as pd\n",
    "import seaborn as sns\n",
    "import matplotlib.pyplot as plt"
   ]
  },
  {
   "cell_type": "code",
   "execution_count": 2,
   "id": "34ddd2b1",
   "metadata": {
    "colab": {
     "base_uri": "https://localhost:8080/",
     "height": 681
    },
    "executionInfo": {
     "elapsed": 39,
     "status": "ok",
     "timestamp": 1659191414071,
     "user": {
      "displayName": "Gorakh Chavan",
      "userId": "03424950974426045553"
     },
     "user_tz": -330
    },
    "id": "34ddd2b1",
    "outputId": "64e79d04-138c-44c3-8dc6-b3fba31c7d19"
   },
   "outputs": [
    {
     "data": {
      "text/html": [
       "\n",
       "  <div id=\"df-c7bb96db-9bd3-4e23-b189-97f0abfb9c46\">\n",
       "    <div class=\"colab-df-container\">\n",
       "      <div>\n",
       "<style scoped>\n",
       "    .dataframe tbody tr th:only-of-type {\n",
       "        vertical-align: middle;\n",
       "    }\n",
       "\n",
       "    .dataframe tbody tr th {\n",
       "        vertical-align: top;\n",
       "    }\n",
       "\n",
       "    .dataframe thead th {\n",
       "        text-align: right;\n",
       "    }\n",
       "</style>\n",
       "<table border=\"1\" class=\"dataframe\">\n",
       "  <thead>\n",
       "    <tr style=\"text-align: right;\">\n",
       "      <th></th>\n",
       "      <th>&lt;!DOCTYPE html&gt;&lt;html&gt;&lt;head&gt;&lt;meta name=\"google\" content=\"notranslate\"&gt;&lt;meta http-equiv=\"X-UA-Compatible\" content=\"IE=edge;\"&gt;&lt;style nonce=\"qIUjKn_qTZpsgkf6VI3N_A\"&gt;@font-face{font-family:'Roboto';font-style:italic;font-weight:400;src:url(//fonts.gstatic.com/s/roboto/v18/KFOkCnqEu92Fr1Mu51xIIzc.ttf)format('truetype');}@font-face{font-family:'Roboto';font-style:normal;font-weight:300;src:url(//fonts.gstatic.com/s/roboto/v18/KFOlCnqEu92Fr1MmSU5fBBc9.ttf)format('truetype');}@font-face{font-family:'Roboto';font-style:normal;font-weight:400;src:url(//fonts.gstatic.com/s/roboto/v18/KFOmCnqEu92Fr1Mu4mxP.ttf)format('truetype');}@font-face{font-family:'Roboto';font-style:normal;font-weight:500;src:url(//fonts.gstatic.com/s/roboto/v18/KFOlCnqEu92Fr1MmEU9fBBc9.ttf)format('truetype');}@font-face{font-family:'Roboto';font-style:normal;font-weight:700;src:url(//fonts.gstatic.com/s/roboto/v18/KFOlCnqEu92Fr1MmWUlfBBc9.ttf)format('truetype');}&lt;/style&gt;&lt;meta name=\"referrer\" content=\"origin\"&gt;&lt;title&gt;train.csv - Google Drive&lt;/title&gt;&lt;meta property=\"og:title\" content=\"train.csv\"&gt;&lt;meta property=\"og:type\" content=\"article\"&gt;&lt;meta property=\"og:site_name\" content=\"Google Docs\"&gt;&lt;meta property=\"og:url\" content=\"https://drive.google.com/file/d/1qfxwlgYa3eL3r6Gge7sG9fF3tLo1lUXx/view?usp=sharing&amp;amp;usp=embed_facebook\"&gt;&lt;link rel=\"shortcut icon\" href=\"https://ssl.gstatic.com/images/branding/product/1x/drive_2020q4_32dp.png\"&gt;&lt;link rel=\"stylesheet\" href=\"https://fonts.googleapis.com/css?family=Google+Sans:300</th>\n",
       "      <th>400</th>\n",
       "      <th>500</th>\n",
       "      <th>700\" nonce=\"qIUjKn_qTZpsgkf6VI3N_A\"&gt;&lt;link rel=\"stylesheet\" href=\"https://www.gstatic.com/_/apps-fileview/_/ss/k=apps-fileview.v.0Xygm-i-1ug.L.X.O/d=0/rs=AO0039tpZOrtH3lK5OokR6dp77DbIrk08A\" nonce=\"qIUjKn_qTZpsgkf6VI3N_A\"&gt;&lt;script nonce=\"upG1M_dnowcvEcIE-emiUw\"&gt;_docs_flag_initialData={\"docs-ails\":\"docs_cold\"</th>\n",
       "      <th>docs-fwds:\"docs_sdf\"</th>\n",
       "      <th>docs-crs:\"docs_crs_nfd\"</th>\n",
       "      <th>docs-shdn:0</th>\n",
       "      <th>docs-tfh:\"\"</th>\n",
       "      <th>info_params:{}</th>\n",
       "      <th>docs-eohmo:false</th>\n",
       "      <th>...</th>\n",
       "      <th>null.193</th>\n",
       "      <th>2.3</th>\n",
       "      <th>5.2</th>\n",
       "      <th>ug</th>\n",
       "      <th>56]</th>\n",
       "      <th>[[null.2</th>\n",
       "      <th>null.194</th>\n",
       "      <th>null.195</th>\n",
       "      <th>https://www.gstatic.com/og/_/js/k=og.qtm.en_US.asUsweLQqwk.O/rt=j/m=qabr,q_dnp,qapid/exm=qaaw,qadd,qaid,qein,qhaw,qhbr,qhch,qhga,qhid,qhin,qhpr/d=1/ed=1/rs=AA2YrTvH37iHjvnJ7NPFbMaGY1OZ0tqdnw]]]]</th>\n",
       "      <th>};this.gbar_=this.gbar_||{};(function(_){var window=this;</th>\n",
       "    </tr>\n",
       "  </thead>\n",
       "  <tbody>\n",
       "    <tr>\n",
       "      <th>0</th>\n",
       "      <td>try{</td>\n",
       "      <td>NaN</td>\n",
       "      <td>NaN</td>\n",
       "      <td>NaN</td>\n",
       "      <td>NaN</td>\n",
       "      <td>NaN</td>\n",
       "      <td>NaN</td>\n",
       "      <td>NaN</td>\n",
       "      <td>NaN</td>\n",
       "      <td>NaN</td>\n",
       "      <td>...</td>\n",
       "      <td>NaN</td>\n",
       "      <td>NaN</td>\n",
       "      <td>NaN</td>\n",
       "      <td>NaN</td>\n",
       "      <td>NaN</td>\n",
       "      <td>NaN</td>\n",
       "      <td>NaN</td>\n",
       "      <td>NaN</td>\n",
       "      <td>NaN</td>\n",
       "      <td>NaN</td>\n",
       "    </tr>\n",
       "    <tr>\n",
       "      <th>1</th>\n",
       "      <td>var ka</td>\n",
       "      <td>sa</td>\n",
       "      <td>ya</td>\n",
       "      <td>za</td>\n",
       "      <td>Ha</td>\n",
       "      <td>Fa</td>\n",
       "      <td>Ia</td>\n",
       "      <td>Ea</td>\n",
       "      <td>Na</td>\n",
       "      <td>Sa</td>\n",
       "      <td>...</td>\n",
       "      <td>NaN</td>\n",
       "      <td>NaN</td>\n",
       "      <td>NaN</td>\n",
       "      <td>NaN</td>\n",
       "      <td>NaN</td>\n",
       "      <td>NaN</td>\n",
       "      <td>NaN</td>\n",
       "      <td>NaN</td>\n",
       "      <td>NaN</td>\n",
       "      <td>NaN</td>\n",
       "    </tr>\n",
       "    <tr>\n",
       "      <th>2</th>\n",
       "      <td>_.ia=function(){return _.p(\"Safari\")&amp;&amp;!(_.ha()...</td>\n",
       "      <td>NaN</td>\n",
       "      <td>NaN</td>\n",
       "      <td>NaN</td>\n",
       "      <td>NaN</td>\n",
       "      <td>NaN</td>\n",
       "      <td>NaN</td>\n",
       "      <td>NaN</td>\n",
       "      <td>NaN</td>\n",
       "      <td>NaN</td>\n",
       "      <td>...</td>\n",
       "      <td>NaN</td>\n",
       "      <td>NaN</td>\n",
       "      <td>NaN</td>\n",
       "      <td>NaN</td>\n",
       "      <td>NaN</td>\n",
       "      <td>NaN</td>\n",
       "      <td>NaN</td>\n",
       "      <td>NaN</td>\n",
       "      <td>NaN</td>\n",
       "      <td>NaN</td>\n",
       "    </tr>\n",
       "    <tr>\n",
       "      <th>3</th>\n",
       "      <td>_.ma=function(a){var b=a.length;if(0&lt;b){for(va...</td>\n",
       "      <td>d=0;d&lt;b;d++)c[d]=a[d];return c}return[]};_.na=...</td>\n",
       "      <td>b){Object.isFrozen(a)||(qa?a[qa]|=b:void 0!==a...</td>\n",
       "      <td>{Jc:{value:b</td>\n",
       "      <td>configurable:!0</td>\n",
       "      <td>writable:!0</td>\n",
       "      <td>enumerable:!1}}))};_.ta=function(a){var b;qa?b...</td>\n",
       "      <td>1);return a};</td>\n",
       "      <td>NaN</td>\n",
       "      <td>NaN</td>\n",
       "      <td>...</td>\n",
       "      <td>NaN</td>\n",
       "      <td>NaN</td>\n",
       "      <td>NaN</td>\n",
       "      <td>NaN</td>\n",
       "      <td>NaN</td>\n",
       "      <td>NaN</td>\n",
       "      <td>NaN</td>\n",
       "      <td>NaN</td>\n",
       "      <td>NaN</td>\n",
       "      <td>NaN</td>\n",
       "    </tr>\n",
       "    <tr>\n",
       "      <th>4</th>\n",
       "      <td>_.va=function(a){return Array.isArray(a)?!!(_....</td>\n",
       "      <td>2)};_.xa=function(a</td>\n",
       "      <td>b){if(!Array.isArray(a))throw Error(\"z\");b?sa(a</td>\n",
       "      <td>8):Object.isFrozen(a)||(qa?a[qa]&amp;=-9:void 0!==...</td>\n",
       "      <td>configurable:!1</td>\n",
       "      <td>writable:!1</td>\n",
       "      <td>enumerable:!1}};_.Aa=function(a</td>\n",
       "      <td>b){var c=void 0===c?!1:c;if(Array.isArray(a))r...</td>\n",
       "      <td>NaN</td>\n",
       "      <td>NaN</td>\n",
       "      <td>...</td>\n",
       "      <td>NaN</td>\n",
       "      <td>NaN</td>\n",
       "      <td>NaN</td>\n",
       "      <td>NaN</td>\n",
       "      <td>NaN</td>\n",
       "      <td>NaN</td>\n",
       "      <td>NaN</td>\n",
       "      <td>NaN</td>\n",
       "      <td>NaN</td>\n",
       "      <td>NaN</td>\n",
       "    </tr>\n",
       "  </tbody>\n",
       "</table>\n",
       "<p>5 rows × 764 columns</p>\n",
       "</div>\n",
       "      <button class=\"colab-df-convert\" onclick=\"convertToInteractive('df-c7bb96db-9bd3-4e23-b189-97f0abfb9c46')\"\n",
       "              title=\"Convert this dataframe to an interactive table.\"\n",
       "              style=\"display:none;\">\n",
       "        \n",
       "  <svg xmlns=\"http://www.w3.org/2000/svg\" height=\"24px\"viewBox=\"0 0 24 24\"\n",
       "       width=\"24px\">\n",
       "    <path d=\"M0 0h24v24H0V0z\" fill=\"none\"/>\n",
       "    <path d=\"M18.56 5.44l.94 2.06.94-2.06 2.06-.94-2.06-.94-.94-2.06-.94 2.06-2.06.94zm-11 1L8.5 8.5l.94-2.06 2.06-.94-2.06-.94L8.5 2.5l-.94 2.06-2.06.94zm10 10l.94 2.06.94-2.06 2.06-.94-2.06-.94-.94-2.06-.94 2.06-2.06.94z\"/><path d=\"M17.41 7.96l-1.37-1.37c-.4-.4-.92-.59-1.43-.59-.52 0-1.04.2-1.43.59L10.3 9.45l-7.72 7.72c-.78.78-.78 2.05 0 2.83L4 21.41c.39.39.9.59 1.41.59.51 0 1.02-.2 1.41-.59l7.78-7.78 2.81-2.81c.8-.78.8-2.07 0-2.86zM5.41 20L4 18.59l7.72-7.72 1.47 1.35L5.41 20z\"/>\n",
       "  </svg>\n",
       "      </button>\n",
       "      \n",
       "  <style>\n",
       "    .colab-df-container {\n",
       "      display:flex;\n",
       "      flex-wrap:wrap;\n",
       "      gap: 12px;\n",
       "    }\n",
       "\n",
       "    .colab-df-convert {\n",
       "      background-color: #E8F0FE;\n",
       "      border: none;\n",
       "      border-radius: 50%;\n",
       "      cursor: pointer;\n",
       "      display: none;\n",
       "      fill: #1967D2;\n",
       "      height: 32px;\n",
       "      padding: 0 0 0 0;\n",
       "      width: 32px;\n",
       "    }\n",
       "\n",
       "    .colab-df-convert:hover {\n",
       "      background-color: #E2EBFA;\n",
       "      box-shadow: 0px 1px 2px rgba(60, 64, 67, 0.3), 0px 1px 3px 1px rgba(60, 64, 67, 0.15);\n",
       "      fill: #174EA6;\n",
       "    }\n",
       "\n",
       "    [theme=dark] .colab-df-convert {\n",
       "      background-color: #3B4455;\n",
       "      fill: #D2E3FC;\n",
       "    }\n",
       "\n",
       "    [theme=dark] .colab-df-convert:hover {\n",
       "      background-color: #434B5C;\n",
       "      box-shadow: 0px 1px 3px 1px rgba(0, 0, 0, 0.15);\n",
       "      filter: drop-shadow(0px 1px 2px rgba(0, 0, 0, 0.3));\n",
       "      fill: #FFFFFF;\n",
       "    }\n",
       "  </style>\n",
       "\n",
       "      <script>\n",
       "        const buttonEl =\n",
       "          document.querySelector('#df-c7bb96db-9bd3-4e23-b189-97f0abfb9c46 button.colab-df-convert');\n",
       "        buttonEl.style.display =\n",
       "          google.colab.kernel.accessAllowed ? 'block' : 'none';\n",
       "\n",
       "        async function convertToInteractive(key) {\n",
       "          const element = document.querySelector('#df-c7bb96db-9bd3-4e23-b189-97f0abfb9c46');\n",
       "          const dataTable =\n",
       "            await google.colab.kernel.invokeFunction('convertToInteractive',\n",
       "                                                     [key], {});\n",
       "          if (!dataTable) return;\n",
       "\n",
       "          const docLinkHtml = 'Like what you see? Visit the ' +\n",
       "            '<a target=\"_blank\" href=https://colab.research.google.com/notebooks/data_table.ipynb>data table notebook</a>'\n",
       "            + ' to learn more about interactive tables.';\n",
       "          element.innerHTML = '';\n",
       "          dataTable['output_type'] = 'display_data';\n",
       "          await google.colab.output.renderOutput(dataTable, element);\n",
       "          const docLink = document.createElement('div');\n",
       "          docLink.innerHTML = docLinkHtml;\n",
       "          element.appendChild(docLink);\n",
       "        }\n",
       "      </script>\n",
       "    </div>\n",
       "  </div>\n",
       "  "
      ],
      "text/plain": [
       "  <!DOCTYPE html><html><head><meta name=\"google\" content=\"notranslate\"><meta http-equiv=\"X-UA-Compatible\" content=\"IE=edge;\"><style nonce=\"qIUjKn_qTZpsgkf6VI3N_A\">@font-face{font-family:'Roboto';font-style:italic;font-weight:400;src:url(//fonts.gstatic.com/s/roboto/v18/KFOkCnqEu92Fr1Mu51xIIzc.ttf)format('truetype');}@font-face{font-family:'Roboto';font-style:normal;font-weight:300;src:url(//fonts.gstatic.com/s/roboto/v18/KFOlCnqEu92Fr1MmSU5fBBc9.ttf)format('truetype');}@font-face{font-family:'Roboto';font-style:normal;font-weight:400;src:url(//fonts.gstatic.com/s/roboto/v18/KFOmCnqEu92Fr1Mu4mxP.ttf)format('truetype');}@font-face{font-family:'Roboto';font-style:normal;font-weight:500;src:url(//fonts.gstatic.com/s/roboto/v18/KFOlCnqEu92Fr1MmEU9fBBc9.ttf)format('truetype');}@font-face{font-family:'Roboto';font-style:normal;font-weight:700;src:url(//fonts.gstatic.com/s/roboto/v18/KFOlCnqEu92Fr1MmWUlfBBc9.ttf)format('truetype');}</style><meta name=\"referrer\" content=\"origin\"><title>train.csv - Google Drive</title><meta property=\"og:title\" content=\"train.csv\"><meta property=\"og:type\" content=\"article\"><meta property=\"og:site_name\" content=\"Google Docs\"><meta property=\"og:url\" content=\"https://drive.google.com/file/d/1qfxwlgYa3eL3r6Gge7sG9fF3tLo1lUXx/view?usp=sharing&amp;usp=embed_facebook\"><link rel=\"shortcut icon\" href=\"https://ssl.gstatic.com/images/branding/product/1x/drive_2020q4_32dp.png\"><link rel=\"stylesheet\" href=\"https://fonts.googleapis.com/css?family=Google+Sans:300  \\\n",
       "0                                               try{                                                                                                                                                                                                                                                                                                                                                                                                                                                                                                                                                                                                                                                                                                                                                                                                                                                                                                                                                                                                                                                                                                                                                                                                                                                                                                                                                                                                                                                                                                      \n",
       "1                                             var ka                                                                                                                                                                                                                                                                                                                                                                                                                                                                                                                                                                                                                                                                                                                                                                                                                                                                                                                                                                                                                                                                                                                                                                                                                                                                                                                                                                                                                                                                                                      \n",
       "2  _.ia=function(){return _.p(\"Safari\")&&!(_.ha()...                                                                                                                                                                                                                                                                                                                                                                                                                                                                                                                                                                                                                                                                                                                                                                                                                                                                                                                                                                                                                                                                                                                                                                                                                                                                                                                                                                                                                                                                                                      \n",
       "3  _.ma=function(a){var b=a.length;if(0<b){for(va...                                                                                                                                                                                                                                                                                                                                                                                                                                                                                                                                                                                                                                                                                                                                                                                                                                                                                                                                                                                                                                                                                                                                                                                                                                                                                                                                                                                                                                                                                                      \n",
       "4  _.va=function(a){return Array.isArray(a)?!!(_....                                                                                                                                                                                                                                                                                                                                                                                                                                                                                                                                                                                                                                                                                                                                                                                                                                                                                                                                                                                                                                                                                                                                                                                                                                                                                                                                                                                                                                                                                                      \n",
       "\n",
       "                                                 400  \\\n",
       "0                                                NaN   \n",
       "1                                                 sa   \n",
       "2                                                NaN   \n",
       "3  d=0;d<b;d++)c[d]=a[d];return c}return[]};_.na=...   \n",
       "4                                2)};_.xa=function(a   \n",
       "\n",
       "                                                 500  \\\n",
       "0                                                NaN   \n",
       "1                                                 ya   \n",
       "2                                                NaN   \n",
       "3  b){Object.isFrozen(a)||(qa?a[qa]|=b:void 0!==a...   \n",
       "4    b){if(!Array.isArray(a))throw Error(\"z\");b?sa(a   \n",
       "\n",
       "  700\" nonce=\"qIUjKn_qTZpsgkf6VI3N_A\"><link rel=\"stylesheet\" href=\"https://www.gstatic.com/_/apps-fileview/_/ss/k=apps-fileview.v.0Xygm-i-1ug.L.X.O/d=0/rs=AO0039tpZOrtH3lK5OokR6dp77DbIrk08A\" nonce=\"qIUjKn_qTZpsgkf6VI3N_A\"><script nonce=\"upG1M_dnowcvEcIE-emiUw\">_docs_flag_initialData={\"docs-ails\":\"docs_cold\"  \\\n",
       "0                                                NaN                                                                                                                                                                                                                                                                   \n",
       "1                                                 za                                                                                                                                                                                                                                                                   \n",
       "2                                                NaN                                                                                                                                                                                                                                                                   \n",
       "3                                       {Jc:{value:b                                                                                                                                                                                                                                                                   \n",
       "4  8):Object.isFrozen(a)||(qa?a[qa]&=-9:void 0!==...                                                                                                                                                                                                                                                                   \n",
       "\n",
       "  docs-fwds:\"docs_sdf\" docs-crs:\"docs_crs_nfd\"  \\\n",
       "0                  NaN                     NaN   \n",
       "1                   Ha                      Fa   \n",
       "2                  NaN                     NaN   \n",
       "3      configurable:!0             writable:!0   \n",
       "4      configurable:!1             writable:!1   \n",
       "\n",
       "                                         docs-shdn:0  \\\n",
       "0                                                NaN   \n",
       "1                                                 Ia   \n",
       "2                                                NaN   \n",
       "3  enumerable:!1}}))};_.ta=function(a){var b;qa?b...   \n",
       "4                    enumerable:!1}};_.Aa=function(a   \n",
       "\n",
       "                                         docs-tfh:\"\" info_params:{}  \\\n",
       "0                                                NaN            NaN   \n",
       "1                                                 Ea             Na   \n",
       "2                                                NaN            NaN   \n",
       "3                                      1);return a};            NaN   \n",
       "4  b){var c=void 0===c?!1:c;if(Array.isArray(a))r...            NaN   \n",
       "\n",
       "  docs-eohmo:false  ... null.193 2.3 5.2  ug 56] [[null.2 null.194 null.195  \\\n",
       "0              NaN  ...      NaN NaN NaN NaN NaN      NaN      NaN      NaN   \n",
       "1               Sa  ...      NaN NaN NaN NaN NaN      NaN      NaN      NaN   \n",
       "2              NaN  ...      NaN NaN NaN NaN NaN      NaN      NaN      NaN   \n",
       "3              NaN  ...      NaN NaN NaN NaN NaN      NaN      NaN      NaN   \n",
       "4              NaN  ...      NaN NaN NaN NaN NaN      NaN      NaN      NaN   \n",
       "\n",
       "  https://www.gstatic.com/og/_/js/k=og.qtm.en_US.asUsweLQqwk.O/rt=j/m=qabr,q_dnp,qapid/exm=qaaw,qadd,qaid,qein,qhaw,qhbr,qhch,qhga,qhid,qhin,qhpr/d=1/ed=1/rs=AA2YrTvH37iHjvnJ7NPFbMaGY1OZ0tqdnw]]]]  \\\n",
       "0                                                NaN                                                                                                                                                   \n",
       "1                                                NaN                                                                                                                                                   \n",
       "2                                                NaN                                                                                                                                                   \n",
       "3                                                NaN                                                                                                                                                   \n",
       "4                                                NaN                                                                                                                                                   \n",
       "\n",
       "  };this.gbar_=this.gbar_||{};(function(_){var window=this;  \n",
       "0                                                NaN         \n",
       "1                                                NaN         \n",
       "2                                                NaN         \n",
       "3                                                NaN         \n",
       "4                                                NaN         \n",
       "\n",
       "[5 rows x 764 columns]"
      ]
     },
     "execution_count": 2,
     "metadata": {},
     "output_type": "execute_result"
    }
   ],
   "source": [
    "# Load the dataset\n",
    "df = pd.read_csv(\"https://drive.google.com/file/d/1qfxwlgYa3eL3r6Gge7sG9fF3tLo1lUXx/view?usp=sharing\")\n",
    "df.head()"
   ]
  },
  {
   "cell_type": "markdown",
   "id": "10c207ce",
   "metadata": {
    "id": "10c207ce"
   },
   "source": [
    "### 1. Before starting with the EDA let us check if there is any missing data"
   ]
  },
  {
   "cell_type": "code",
   "execution_count": null,
   "id": "e0a50639",
   "metadata": {
    "id": "e0a50639",
    "outputId": "be619842-5a68-4605-898a-712805bb78a5"
   },
   "outputs": [
    {
     "data": {
      "text/plain": [
       "R&D Spend          0\n",
       "Administration     0\n",
       "Marketing Spend    0\n",
       "State              0\n",
       "Profit             0\n",
       "dtype: int64"
      ]
     },
     "execution_count": 3,
     "metadata": {},
     "output_type": "execute_result"
    }
   ],
   "source": [
    "#Check for any missing values\n",
    "df.isnull().sum()"
   ]
  },
  {
   "cell_type": "markdown",
   "id": "010c94e3",
   "metadata": {
    "id": "010c94e3"
   },
   "source": [
    "#### As you can see there is no data missing, Hence we can proceed further."
   ]
  },
  {
   "cell_type": "markdown",
   "id": "026f20b9",
   "metadata": {
    "id": "026f20b9"
   },
   "source": [
    "### 2. Check the types of data set."
   ]
  },
  {
   "cell_type": "code",
   "execution_count": null,
   "id": "37914e3c",
   "metadata": {
    "id": "37914e3c",
    "outputId": "67b730f7-8ad6-45d1-91f7-dcfdcb3dacaf"
   },
   "outputs": [
    {
     "name": "stdout",
     "output_type": "stream",
     "text": [
      "<class 'pandas.core.frame.DataFrame'>\n",
      "RangeIndex: 50 entries, 0 to 49\n",
      "Data columns (total 5 columns):\n",
      " #   Column           Non-Null Count  Dtype  \n",
      "---  ------           --------------  -----  \n",
      " 0   R&D Spend        50 non-null     float64\n",
      " 1   Administration   50 non-null     float64\n",
      " 2   Marketing Spend  50 non-null     float64\n",
      " 3   State            50 non-null     object \n",
      " 4   Profit           50 non-null     float64\n",
      "dtypes: float64(4), object(1)\n",
      "memory usage: 2.1+ KB\n"
     ]
    }
   ],
   "source": [
    "df.info()"
   ]
  },
  {
   "cell_type": "markdown",
   "id": "0fbfb15c",
   "metadata": {
    "id": "0fbfb15c"
   },
   "source": [
    "* Most of the data is in float data type, Except State we'll decide what can be done to this column."
   ]
  },
  {
   "cell_type": "markdown",
   "id": "15382549",
   "metadata": {
    "id": "15382549"
   },
   "source": [
    "### 3. Analyze how these columns (R&D Spend , Administration , Marketing Spend , Profit) will impact in determining the Profit, Here Profit is the dependent variable"
   ]
  },
  {
   "cell_type": "markdown",
   "id": "e2d6d494",
   "metadata": {
    "id": "e2d6d494"
   },
   "source": [
    "#### Here we can see the relation using data visualization techniques, or using the corr function."
   ]
  },
  {
   "cell_type": "code",
   "execution_count": null,
   "id": "3b408887",
   "metadata": {
    "id": "3b408887",
    "outputId": "7fe9e04f-30b9-4afe-8c72-4333869f6312"
   },
   "outputs": [
    {
     "data": {
      "image/png": "[encoded data removed]",
      "text/plain": [
       "<Figure size 432x288 with 1 Axes>"
      ]
     },
     "metadata": {
      "needs_background": "light"
     },
     "output_type": "display_data"
    }
   ],
   "source": [
    "# For R&D Spend\n",
    "plt.scatter(x=\"R&D Spend\", y=\"Profit\", data=df)\n",
    "plt.title(\"R&D Spend vs Profit\")\n",
    "plt.xlabel(\"R&D Spend\")\n",
    "plt.ylabel(\"Profit\")\n",
    "plt.show()"
   ]
  },
  {
   "cell_type": "markdown",
   "id": "4323247f",
   "metadata": {
    "id": "4323247f"
   },
   "source": [
    "* As we can see that the R&D Spend is positively correlated with the profit. \n",
    "* We can confirm that the more company spends on R&D the more profit it can make"
   ]
  },
  {
   "cell_type": "code",
   "execution_count": null,
   "id": "194b581e",
   "metadata": {
    "id": "194b581e",
    "outputId": "0349cc69-68e8-4113-a487-38cf7ddc5b19"
   },
   "outputs": [
    {
     "data": {
      "image/png": "[encoded data removed]",
      "text/plain": [
       "<Figure size 432x288 with 1 Axes>"
      ]
     },
     "metadata": {
      "needs_background": "light"
     },
     "output_type": "display_data"
    }
   ],
   "source": [
    "# For Administration\n",
    "plt.scatter(x=\"Administration\", y=\"Profit\", data=df)\n",
    "plt.title(\"Administration vs Profit\")\n",
    "plt.xlabel(\"Administration\")\n",
    "plt.ylabel(\"Profit\")\n",
    "plt.show()"
   ]
  },
  {
   "cell_type": "markdown",
   "id": "01585167",
   "metadata": {
    "id": "01585167"
   },
   "source": [
    "* We can say that there is some very little correlation with the Profit\n",
    "* But we cannot see the value or how stongly these variables are correlated"
   ]
  },
  {
   "cell_type": "code",
   "execution_count": null,
   "id": "ba436cff",
   "metadata": {
    "id": "ba436cff",
    "outputId": "d7deae07-57a6-42f5-b4d5-97148c4093f7"
   },
   "outputs": [
    {
     "data": {
      "image/png": "[encoded data removed]",
      "text/plain": [
       "<Figure size 432x288 with 1 Axes>"
      ]
     },
     "metadata": {
      "needs_background": "light"
     },
     "output_type": "display_data"
    }
   ],
   "source": [
    "plt.scatter(x=\"Marketing Spend\", y=\"Profit\", data=df)\n",
    "plt.title(\"Marketing Spend vs Profit\")\n",
    "plt.xlabel(\"Marketing Spend\")\n",
    "plt.ylabel(\"Profit\")\n",
    "plt.show()"
   ]
  },
  {
   "cell_type": "markdown",
   "id": "5d45c6ef",
   "metadata": {
    "id": "5d45c6ef"
   },
   "source": [
    "* There is some positive correlation but not to that extend, hence we need to plot an corr matrix to check the correlation between the variables"
   ]
  },
  {
   "cell_type": "code",
   "execution_count": null,
   "id": "fc4d36f9",
   "metadata": {
    "id": "fc4d36f9",
    "outputId": "a5991116-f221-46d6-8531-b33b3ef10e3e"
   },
   "outputs": [
    {
     "data": {
      "text/html": [
       "<div>\n",
       "<style scoped>\n",
       "    .dataframe tbody tr th:only-of-type {\n",
       "        vertical-align: middle;\n",
       "    }\n",
       "\n",
       "    .dataframe tbody tr th {\n",
       "        vertical-align: top;\n",
       "    }\n",
       "\n",
       "    .dataframe thead th {\n",
       "        text-align: right;\n",
       "    }\n",
       "</style>\n",
       "<table border=\"1\" class=\"dataframe\">\n",
       "  <thead>\n",
       "    <tr style=\"text-align: right;\">\n",
       "      <th></th>\n",
       "      <th>R&amp;D Spend</th>\n",
       "      <th>Administration</th>\n",
       "      <th>Marketing Spend</th>\n",
       "      <th>Profit</th>\n",
       "    </tr>\n",
       "  </thead>\n",
       "  <tbody>\n",
       "    <tr>\n",
       "      <th>R&amp;D Spend</th>\n",
       "      <td>1.000000</td>\n",
       "      <td>0.241955</td>\n",
       "      <td>0.724248</td>\n",
       "      <td>0.972900</td>\n",
       "    </tr>\n",
       "    <tr>\n",
       "      <th>Administration</th>\n",
       "      <td>0.241955</td>\n",
       "      <td>1.000000</td>\n",
       "      <td>-0.032154</td>\n",
       "      <td>0.200717</td>\n",
       "    </tr>\n",
       "    <tr>\n",
       "      <th>Marketing Spend</th>\n",
       "      <td>0.724248</td>\n",
       "      <td>-0.032154</td>\n",
       "      <td>1.000000</td>\n",
       "      <td>0.747766</td>\n",
       "    </tr>\n",
       "    <tr>\n",
       "      <th>Profit</th>\n",
       "      <td>0.972900</td>\n",
       "      <td>0.200717</td>\n",
       "      <td>0.747766</td>\n",
       "      <td>1.000000</td>\n",
       "    </tr>\n",
       "  </tbody>\n",
       "</table>\n",
       "</div>"
      ],
      "text/plain": [
       "                 R&D Spend  Administration  Marketing Spend    Profit\n",
       "R&D Spend         1.000000        0.241955         0.724248  0.972900\n",
       "Administration    0.241955        1.000000        -0.032154  0.200717\n",
       "Marketing Spend   0.724248       -0.032154         1.000000  0.747766\n",
       "Profit            0.972900        0.200717         0.747766  1.000000"
      ]
     },
     "execution_count": 8,
     "metadata": {},
     "output_type": "execute_result"
    }
   ],
   "source": [
    "df.corr()"
   ]
  },
  {
   "cell_type": "markdown",
   "id": "8d4e490c",
   "metadata": {
    "id": "8d4e490c"
   },
   "source": [
    "* As we can see that the R&D Spend and Marketing Spend are stongly correlated to profit.\n",
    "* The Administration has just an correlation of 0.20"
   ]
  },
  {
   "cell_type": "markdown",
   "id": "15738653",
   "metadata": {
    "id": "15738653"
   },
   "source": [
    "### 4. Use encoding technique(use Label Encoder or OneHotEncoder libraries) to handle with categorical variable."
   ]
  },
  {
   "cell_type": "code",
   "execution_count": null,
   "id": "fd2428b7",
   "metadata": {
    "id": "fd2428b7",
    "outputId": "51c215f3-e176-4c6c-a518-75cddc44257b"
   },
   "outputs": [
    {
     "data": {
      "text/plain": [
       "array(['New York', 'California', 'Florida'], dtype=object)"
      ]
     },
     "execution_count": 9,
     "metadata": {},
     "output_type": "execute_result"
    }
   ],
   "source": [
    "# First let us check the unique values of the \"State\" columns. \n",
    "df[\"State\"].unique()"
   ]
  },
  {
   "cell_type": "code",
   "execution_count": null,
   "id": "d8bca08e",
   "metadata": {
    "id": "d8bca08e",
    "outputId": "b1b5c8de-86c5-4de6-85ef-5c4e95f5626c"
   },
   "outputs": [
    {
     "data": {
      "text/plain": [
       "array([2, 0, 1])"
      ]
     },
     "execution_count": 10,
     "metadata": {},
     "output_type": "execute_result"
    }
   ],
   "source": [
    "# Import Label Encoder\n",
    "from sklearn import preprocessing\n",
    "# label_encoder object knows how to understand word labels.\n",
    "label_encoder = preprocessing.LabelEncoder()\n",
    "\n",
    "df['State']= label_encoder.fit_transform(df['State'])\n",
    "\n",
    "df[\"State\"].unique()"
   ]
  },
  {
   "cell_type": "code",
   "execution_count": null,
   "id": "982dec74",
   "metadata": {
    "id": "982dec74",
    "outputId": "fb68c399-6581-47cb-e95e-082a69277796"
   },
   "outputs": [
    {
     "data": {
      "text/plain": [
       "<AxesSubplot:>"
      ]
     },
     "execution_count": 11,
     "metadata": {},
     "output_type": "execute_result"
    },
    {
     "data": {
      "image/png": "[encoded data removed]",
      "text/plain": [
       "<Figure size 720x360 with 2 Axes>"
      ]
     },
     "metadata": {
      "needs_background": "light"
     },
     "output_type": "display_data"
    }
   ],
   "source": [
    "plt.figure(figsize=(10,5))\n",
    "sns.heatmap(df.corr(),annot=True, cmap = \"coolwarm\" )"
   ]
  },
  {
   "cell_type": "markdown",
   "id": "eed20e1d",
   "metadata": {
    "id": "eed20e1d"
   },
   "source": [
    "#### With heatmap we can say that Administration and State are not related with the profit"
   ]
  },
  {
   "cell_type": "markdown",
   "id": "54d71d5e",
   "metadata": {
    "id": "54d71d5e"
   },
   "source": [
    "### 5. Build an OLS regression model"
   ]
  },
  {
   "cell_type": "code",
   "execution_count": null,
   "id": "ac914af8",
   "metadata": {
    "id": "ac914af8"
   },
   "outputs": [],
   "source": [
    "from sklearn import linear_model"
   ]
  },
  {
   "cell_type": "code",
   "execution_count": null,
   "id": "d68ff290",
   "metadata": {
    "id": "d68ff290"
   },
   "outputs": [],
   "source": [
    "from sklearn.model_selection import train_test_split\n",
    "df_train, df_test = train_test_split(df, train_size = 0.8, test_size = 0.2, \n",
    "                                     random_state = 100)"
   ]
  },
  {
   "cell_type": "code",
   "execution_count": null,
   "id": "54a61b03",
   "metadata": {
    "id": "54a61b03"
   },
   "outputs": [],
   "source": [
    "y_train = df_train.pop('Profit')\n",
    "X_train = df_train\n",
    "\n",
    "y_test = df_test.pop('Profit')\n",
    "X_test = df_test"
   ]
  },
  {
   "cell_type": "code",
   "execution_count": null,
   "id": "4910d95f",
   "metadata": {
    "id": "4910d95f",
    "outputId": "535bc4bb-e3ca-400f-f6ea-13db9f127fcc"
   },
   "outputs": [
    {
     "name": "stderr",
     "output_type": "stream",
     "text": [
      "C:\\Users\\MIT\\anaconda3\\lib\\site-packages\\statsmodels\\tsa\\tsatools.py:142: FutureWarning: In a future version of pandas all arguments of concat except for the argument 'objs' will be keyword-only\n",
      "  x = pd.concat(x[::order], 1)\n"
     ]
    },
    {
     "data": {
      "text/html": [
       "<table class=\"simpletable\">\n",
       "<caption>OLS Regression Results</caption>\n",
       "<tr>\n",
       "  <th>Dep. Variable:</th>         <td>Profit</td>      <th>  R-squared:         </th> <td>   0.962</td>\n",
       "</tr>\n",
       "<tr>\n",
       "  <th>Model:</th>                   <td>OLS</td>       <th>  Adj. R-squared:    </th> <td>   0.957</td>\n",
       "</tr>\n",
       "<tr>\n",
       "  <th>Method:</th>             <td>Least Squares</td>  <th>  F-statistic:       </th> <td>   220.0</td>\n",
       "</tr>\n",
       "<tr>\n",
       "  <th>Date:</th>             <td>Fri, 06 May 2022</td> <th>  Prob (F-statistic):</th> <td>2.81e-24</td>\n",
       "</tr>\n",
       "<tr>\n",
       "  <th>Time:</th>                 <td>11:53:41</td>     <th>  Log-Likelihood:    </th> <td> -414.35</td>\n",
       "</tr>\n",
       "<tr>\n",
       "  <th>No. Observations:</th>      <td>    40</td>      <th>  AIC:               </th> <td>   838.7</td>\n",
       "</tr>\n",
       "<tr>\n",
       "  <th>Df Residuals:</th>          <td>    35</td>      <th>  BIC:               </th> <td>   847.1</td>\n",
       "</tr>\n",
       "<tr>\n",
       "  <th>Df Model:</th>              <td>     4</td>      <th>                     </th>     <td> </td>   \n",
       "</tr>\n",
       "<tr>\n",
       "  <th>Covariance Type:</th>      <td>nonrobust</td>    <th>                     </th>     <td> </td>   \n",
       "</tr>\n",
       "</table>\n",
       "<table class=\"simpletable\">\n",
       "<tr>\n",
       "         <td></td>            <th>coef</th>     <th>std err</th>      <th>t</th>      <th>P>|t|</th>  <th>[0.025</th>    <th>0.975]</th>  \n",
       "</tr>\n",
       "<tr>\n",
       "  <th>const</th>           <td> 5.561e+04</td> <td> 6979.870</td> <td>    7.968</td> <td> 0.000</td> <td> 4.14e+04</td> <td> 6.98e+04</td>\n",
       "</tr>\n",
       "<tr>\n",
       "  <th>R&D Spend</th>       <td>    0.8168</td> <td>    0.046</td> <td>   17.810</td> <td> 0.000</td> <td>    0.724</td> <td>    0.910</td>\n",
       "</tr>\n",
       "<tr>\n",
       "  <th>Administration</th>  <td>   -0.0502</td> <td>    0.053</td> <td>   -0.954</td> <td> 0.346</td> <td>   -0.157</td> <td>    0.057</td>\n",
       "</tr>\n",
       "<tr>\n",
       "  <th>Marketing Spend</th> <td>    0.0200</td> <td>    0.016</td> <td>    1.250</td> <td> 0.220</td> <td>   -0.012</td> <td>    0.052</td>\n",
       "</tr>\n",
       "<tr>\n",
       "  <th>State</th>           <td>-1439.4323</td> <td> 1586.366</td> <td>   -0.907</td> <td> 0.370</td> <td>-4659.927</td> <td> 1781.062</td>\n",
       "</tr>\n",
       "</table>\n",
       "<table class=\"simpletable\">\n",
       "<tr>\n",
       "  <th>Omnibus:</th>       <td> 0.018</td> <th>  Durbin-Watson:     </th> <td>   2.219</td>\n",
       "</tr>\n",
       "<tr>\n",
       "  <th>Prob(Omnibus):</th> <td> 0.991</td> <th>  Jarque-Bera (JB):  </th> <td>   0.096</td>\n",
       "</tr>\n",
       "<tr>\n",
       "  <th>Skew:</th>          <td>-0.036</td> <th>  Prob(JB):          </th> <td>   0.953</td>\n",
       "</tr>\n",
       "<tr>\n",
       "  <th>Kurtosis:</th>      <td> 2.771</td> <th>  Cond. No.          </th> <td>1.57e+06</td>\n",
       "</tr>\n",
       "</table><br/><br/>Notes:<br/>[1] Standard Errors assume that the covariance matrix of the errors is correctly specified.<br/>[2] The condition number is large, 1.57e+06. This might indicate that there are<br/>strong multicollinearity or other numerical problems."
      ],
      "text/plain": [
       "<class 'statsmodels.iolib.summary.Summary'>\n",
       "\"\"\"\n",
       "                            OLS Regression Results                            \n",
       "==============================================================================\n",
       "Dep. Variable:                 Profit   R-squared:                       0.962\n",
       "Model:                            OLS   Adj. R-squared:                  0.957\n",
       "Method:                 Least Squares   F-statistic:                     220.0\n",
       "Date:                Fri, 06 May 2022   Prob (F-statistic):           2.81e-24\n",
       "Time:                        11:53:41   Log-Likelihood:                -414.35\n",
       "No. Observations:                  40   AIC:                             838.7\n",
       "Df Residuals:                      35   BIC:                             847.1\n",
       "Df Model:                           4                                         \n",
       "Covariance Type:            nonrobust                                         \n",
       "===================================================================================\n",
       "                      coef    std err          t      P>|t|      [0.025      0.975]\n",
       "-----------------------------------------------------------------------------------\n",
       "const            5.561e+04   6979.870      7.968      0.000    4.14e+04    6.98e+04\n",
       "R&D Spend           0.8168      0.046     17.810      0.000       0.724       0.910\n",
       "Administration     -0.0502      0.053     -0.954      0.346      -0.157       0.057\n",
       "Marketing Spend     0.0200      0.016      1.250      0.220      -0.012       0.052\n",
       "State           -1439.4323   1586.366     -0.907      0.370   -4659.927    1781.062\n",
       "==============================================================================\n",
       "Omnibus:                        0.018   Durbin-Watson:                   2.219\n",
       "Prob(Omnibus):                  0.991   Jarque-Bera (JB):                0.096\n",
       "Skew:                          -0.036   Prob(JB):                        0.953\n",
       "Kurtosis:                       2.771   Cond. No.                     1.57e+06\n",
       "==============================================================================\n",
       "\n",
       "Notes:\n",
       "[1] Standard Errors assume that the covariance matrix of the errors is correctly specified.\n",
       "[2] The condition number is large, 1.57e+06. This might indicate that there are\n",
       "strong multicollinearity or other numerical problems.\n",
       "\"\"\""
      ]
     },
     "execution_count": 15,
     "metadata": {},
     "output_type": "execute_result"
    }
   ],
   "source": [
    "import statsmodels.api as sm\n",
    "X_train_lm = sm.add_constant(X_train)\n",
    "\n",
    "lr = sm.OLS(y_train, X_train_lm).fit()\n",
    "\n",
    "lr.summary()"
   ]
  },
  {
   "cell_type": "markdown",
   "id": "5c77b4b2",
   "metadata": {
    "id": "5c77b4b2"
   },
   "source": [
    "### 6. Check for multicollinearity"
   ]
  },
  {
   "cell_type": "code",
   "execution_count": null,
   "id": "3409bb29",
   "metadata": {
    "id": "3409bb29"
   },
   "outputs": [],
   "source": [
    "from statsmodels.stats.outliers_influence import variance_inflation_factor"
   ]
  },
  {
   "cell_type": "code",
   "execution_count": null,
   "id": "9596471c",
   "metadata": {
    "id": "9596471c",
    "outputId": "381f11c2-05b9-40bf-f0a8-2164c3e68a89"
   },
   "outputs": [
    {
     "data": {
      "text/html": [
       "<div>\n",
       "<style scoped>\n",
       "    .dataframe tbody tr th:only-of-type {\n",
       "        vertical-align: middle;\n",
       "    }\n",
       "\n",
       "    .dataframe tbody tr th {\n",
       "        vertical-align: top;\n",
       "    }\n",
       "\n",
       "    .dataframe thead th {\n",
       "        text-align: right;\n",
       "    }\n",
       "</style>\n",
       "<table border=\"1\" class=\"dataframe\">\n",
       "  <thead>\n",
       "    <tr style=\"text-align: right;\">\n",
       "      <th></th>\n",
       "      <th>Features</th>\n",
       "      <th>VIF</th>\n",
       "    </tr>\n",
       "  </thead>\n",
       "  <tbody>\n",
       "    <tr>\n",
       "      <th>0</th>\n",
       "      <td>R&amp;D Spend</td>\n",
       "      <td>9.73</td>\n",
       "    </tr>\n",
       "    <tr>\n",
       "      <th>2</th>\n",
       "      <td>Marketing Spend</td>\n",
       "      <td>8.61</td>\n",
       "    </tr>\n",
       "    <tr>\n",
       "      <th>1</th>\n",
       "      <td>Administration</td>\n",
       "      <td>5.35</td>\n",
       "    </tr>\n",
       "    <tr>\n",
       "      <th>3</th>\n",
       "      <td>State</td>\n",
       "      <td>2.50</td>\n",
       "    </tr>\n",
       "  </tbody>\n",
       "</table>\n",
       "</div>"
      ],
      "text/plain": [
       "          Features   VIF\n",
       "0        R&D Spend  9.73\n",
       "2  Marketing Spend  8.61\n",
       "1   Administration  5.35\n",
       "3            State  2.50"
      ]
     },
     "execution_count": 17,
     "metadata": {},
     "output_type": "execute_result"
    }
   ],
   "source": [
    "# Creating a dataframe that will contain the names of all the feature variables and their VIFs\n",
    "vif = pd.DataFrame()\n",
    "vif['Features'] = X_train.columns\n",
    "vif['VIF'] = [variance_inflation_factor(X_train.values, i) for i in range(X_train.shape[1])]\n",
    "vif['VIF'] = round(vif['VIF'], 2)\n",
    "vif = vif.sort_values(by = \"VIF\", ascending = False)\n",
    "vif"
   ]
  },
  {
   "cell_type": "markdown",
   "id": "f8045207",
   "metadata": {
    "id": "f8045207"
   },
   "source": [
    "* We consider the variables generally having a value <5. If we observe the above image clearly, there are some variables we can drop, But as there are very less variables let them be."
   ]
  },
  {
   "cell_type": "markdown",
   "id": "77f8f451",
   "metadata": {
    "id": "77f8f451"
   },
   "source": [
    "### 7. Build an linear regression model"
   ]
  },
  {
   "cell_type": "code",
   "execution_count": null,
   "id": "7226552c",
   "metadata": {
    "id": "7226552c",
    "outputId": "19305180-30b7-4a4d-97cd-686d9e2b6c7f"
   },
   "outputs": [
    {
     "data": {
      "text/plain": [
       "LinearRegression()"
      ]
     },
     "execution_count": 31,
     "metadata": {},
     "output_type": "execute_result"
    }
   ],
   "source": [
    "from sklearn.linear_model import LinearRegression\n",
    "regressor = LinearRegression()\n",
    "regressor.fit(X_train, y_train)"
   ]
  },
  {
   "cell_type": "markdown",
   "id": "9396f5d6",
   "metadata": {
    "id": "9396f5d6"
   },
   "source": [
    "### 8. Find the intercept and coefficient value of the model"
   ]
  },
  {
   "cell_type": "code",
   "execution_count": null,
   "id": "57834a61",
   "metadata": {
    "id": "57834a61",
    "outputId": "2339c3e8-0bf7-436c-87aa-265d1b7e1ff6"
   },
   "outputs": [
    {
     "name": "stdout",
     "output_type": "stream",
     "text": [
      "55613.44850791521\n"
     ]
    }
   ],
   "source": [
    "print(regressor.intercept_)"
   ]
  },
  {
   "cell_type": "code",
   "execution_count": null,
   "id": "c04ecaae",
   "metadata": {
    "id": "c04ecaae",
    "outputId": "4a90607b-fe65-480d-e7c0-926ecfbb3b58"
   },
   "outputs": [
    {
     "name": "stdout",
     "output_type": "stream",
     "text": [
      "[ 8.16754760e-01 -5.02134441e-02  1.99770860e-02 -1.43943225e+03]\n"
     ]
    }
   ],
   "source": [
    "print(regressor.coef_)"
   ]
  },
  {
   "cell_type": "markdown",
   "id": "ea1c5258",
   "metadata": {
    "id": "ea1c5258"
   },
   "source": [
    "### 9. Predict the profit using the trained model"
   ]
  },
  {
   "cell_type": "code",
   "execution_count": null,
   "id": "e0010986",
   "metadata": {
    "id": "e0010986"
   },
   "outputs": [],
   "source": [
    "y_pred = regressor.predict(X_test)"
   ]
  },
  {
   "cell_type": "code",
   "execution_count": null,
   "id": "62bf5a00",
   "metadata": {
    "id": "62bf5a00",
    "outputId": "2419704e-baec-4627-9a49-9b3bd987d33a"
   },
   "outputs": [
    {
     "data": {
      "text/html": [
       "<div>\n",
       "<style scoped>\n",
       "    .dataframe tbody tr th:only-of-type {\n",
       "        vertical-align: middle;\n",
       "    }\n",
       "\n",
       "    .dataframe tbody tr th {\n",
       "        vertical-align: top;\n",
       "    }\n",
       "\n",
       "    .dataframe thead th {\n",
       "        text-align: right;\n",
       "    }\n",
       "</style>\n",
       "<table border=\"1\" class=\"dataframe\">\n",
       "  <thead>\n",
       "    <tr style=\"text-align: right;\">\n",
       "      <th></th>\n",
       "      <th>Actual</th>\n",
       "      <th>pred_profit</th>\n",
       "    </tr>\n",
       "  </thead>\n",
       "  <tbody>\n",
       "    <tr>\n",
       "      <th>6</th>\n",
       "      <td>156122.51</td>\n",
       "      <td>160721.313879</td>\n",
       "    </tr>\n",
       "    <tr>\n",
       "      <th>36</th>\n",
       "      <td>90708.19</td>\n",
       "      <td>75223.276551</td>\n",
       "    </tr>\n",
       "    <tr>\n",
       "      <th>37</th>\n",
       "      <td>89949.14</td>\n",
       "      <td>92968.760516</td>\n",
       "    </tr>\n",
       "    <tr>\n",
       "      <th>28</th>\n",
       "      <td>103282.38</td>\n",
       "      <td>101310.903749</td>\n",
       "    </tr>\n",
       "    <tr>\n",
       "      <th>43</th>\n",
       "      <td>69758.98</td>\n",
       "      <td>59712.527961</td>\n",
       "    </tr>\n",
       "    <tr>\n",
       "      <th>49</th>\n",
       "      <td>14681.40</td>\n",
       "      <td>50641.715113</td>\n",
       "    </tr>\n",
       "    <tr>\n",
       "      <th>5</th>\n",
       "      <td>156991.12</td>\n",
       "      <td>162682.542019</td>\n",
       "    </tr>\n",
       "    <tr>\n",
       "      <th>33</th>\n",
       "      <td>96778.92</td>\n",
       "      <td>98611.870603</td>\n",
       "    </tr>\n",
       "    <tr>\n",
       "      <th>20</th>\n",
       "      <td>118474.03</td>\n",
       "      <td>118142.928112</td>\n",
       "    </tr>\n",
       "    <tr>\n",
       "      <th>42</th>\n",
       "      <td>71498.49</td>\n",
       "      <td>73048.908905</td>\n",
       "    </tr>\n",
       "  </tbody>\n",
       "</table>\n",
       "</div>"
      ],
      "text/plain": [
       "       Actual    pred_profit\n",
       "6   156122.51  160721.313879\n",
       "36   90708.19   75223.276551\n",
       "37   89949.14   92968.760516\n",
       "28  103282.38  101310.903749\n",
       "43   69758.98   59712.527961\n",
       "49   14681.40   50641.715113\n",
       "5   156991.12  162682.542019\n",
       "33   96778.92   98611.870603\n",
       "20  118474.03  118142.928112\n",
       "42   71498.49   73048.908905"
      ]
     },
     "execution_count": 33,
     "metadata": {},
     "output_type": "execute_result"
    }
   ],
   "source": [
    "df_1 = pd.DataFrame({'Actual': y_test, 'pred_profit': y_pred})\n",
    "df_1"
   ]
  },
  {
   "cell_type": "markdown",
   "id": "819e1c9d",
   "metadata": {
    "id": "819e1c9d"
   },
   "source": [
    "### 10. Find the value of the below asked question\n",
    "* Mean Absolute Error\n",
    "* Mean Squared Error\n",
    "* Root Mean Squared Error"
   ]
  },
  {
   "cell_type": "code",
   "execution_count": null,
   "id": "5c2ecca9",
   "metadata": {
    "id": "5c2ecca9",
    "outputId": "51c78765-c872-46da-fa34-5d27e989a379"
   },
   "outputs": [
    {
     "name": "stdout",
     "output_type": "stream",
     "text": [
      "Mean Absolute Error: 8048.747466039189\n",
      "Mean Squared Error: 170627724.9662677\n",
      "Root Mean Squared Error: 13062.454783319547\n"
     ]
    }
   ],
   "source": [
    "from sklearn import metrics\n",
    "print('Mean Absolute Error:', metrics.mean_absolute_error(y_test, y_pred))\n",
    "print('Mean Squared Error:', metrics.mean_squared_error(y_test, y_pred))\n",
    "print('Root Mean Squared Error:', np.sqrt(metrics.mean_squared_error(y_test, y_pred)))"
   ]
  },
  {
   "cell_type": "markdown",
   "id": "47b44a71",
   "metadata": {
    "id": "47b44a71"
   },
   "source": [
    "### 11. Plot the graph between the Actual and the True values"
   ]
  },
  {
   "cell_type": "code",
   "execution_count": null,
   "id": "562e1b96",
   "metadata": {
    "id": "562e1b96",
    "outputId": "e2849682-89e1-41ed-da92-f90f06ba3a36"
   },
   "outputs": [
    {
     "data": {
      "image/png": "[encoded data removed]",
      "text/plain": [
       "<Figure size 360x360 with 1 Axes>"
      ]
     },
     "metadata": {
      "needs_background": "light"
     },
     "output_type": "display_data"
    }
   ],
   "source": [
    "plt.figure(figsize=(5,5))\n",
    "plt.scatter(y_test,y_pred, c='pink')\n",
    "\n",
    "p1 = max(max(y_pred), max(y_test))\n",
    "p2 = min(min(y_pred), min(y_test))\n",
    "plt.plot([p1, p2], [p1, p2], 'b-')\n",
    "plt.xlabel('True Values', fontsize=15)\n",
    "plt.ylabel('Predictions', fontsize=15)\n",
    "plt.axis('equal')\n",
    "plt.show()"
   ]
  },
  {
   "cell_type": "markdown",
   "id": "5dd79987",
   "metadata": {
    "id": "5dd79987"
   },
   "source": [
    "## Thank you"
   ]
  },
  {
   "cell_type": "code",
   "execution_count": null,
   "id": "64c7c705",
   "metadata": {
    "id": "64c7c705"
   },
   "outputs": [],
   "source": []
  }
 ],
 "metadata": {
  "colab": {
   "name": "Company_profit_estimator.ipynb",
   "provenance": []
  },
  "kernelspec": {
   "display_name": "Python 3 (ipykernel)",
   "language": "python",
   "name": "python3"
  },
  "language_info": {
   "codemirror_mode": {
    "name": "ipython",
    "version": 3
   },
   "file_extension": ".py",
   "mimetype": "text/x-python",
   "name": "python",
   "nbconvert_exporter": "python",
   "pygments_lexer": "ipython3",
   "version": "3.11.4"
  }
 },
 "nbformat": 4,
 "nbformat_minor": 5
}
